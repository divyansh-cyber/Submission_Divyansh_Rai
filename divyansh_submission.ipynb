{
 "cells": [
  {
   "cell_type": "code",
   "execution_count": 25,
   "id": "8dc416bc-4961-4236-bef5-83f334cccfe2",
   "metadata": {},
   "outputs": [],
   "source": [
    "import pandas as pd\n",
    "import numpy as np\n",
    "from sklearn.model_selection import train_test_split, GridSearchCV\n",
    "from sklearn.ensemble import RandomForestClassifier\n",
    "from sklearn.metrics import roc_auc_score\n",
    "from sklearn.preprocessing import StandardScaler, OneHotEncoder\n",
    "from sklearn.compose import ColumnTransformer\n",
    "from sklearn.pipeline import Pipeline\n",
    "from sklearn.impute import SimpleImputer\n",
    "\n",
    "\n",
    "\n",
    "\n"
   ]
  },
  {
   "cell_type": "code",
   "execution_count": 26,
   "id": "df65494e-73b1-481b-9fe0-4a1ac979f746",
   "metadata": {},
   "outputs": [],
   "source": [
    "# Step 1: Load the data\n",
    "features = pd.read_csv(r\"C:\\Users\\DIVYANSH RAI\\Downloads\\dataset and all\\training_set_features.csv\")\n",
    "labels = pd.read_csv(r\"C:\\Users\\DIVYANSH RAI\\Downloads\\dataset and all\\training_set_labels.csv\")\n",
    "\n",
    "# Merge the features and labels on respondent_id\n",
    "data = pd.merge(features, labels, on='respondent_id')\n",
    "\n",
    "# Separate features and target variables\n",
    "X = data.drop(columns=['respondent_id', 'xyz_vaccine', 'seasonal_vaccine'])\n",
    "y_xyz = data['xyz_vaccine']\n",
    "y_seasonal = data['seasonal_vaccine']\n",
    "\n",
    "\n",
    "\n"
   ]
  },
  {
   "cell_type": "code",
   "execution_count": 27,
   "id": "35c76ca7-9222-4459-9a63-05fc1bc7ee5a",
   "metadata": {},
   "outputs": [],
   "source": [
    "# Step 2: Preprocess the data\n",
    "# Define numerical and categorical columns\n",
    "numerical_cols = X.select_dtypes(include=['int64', 'float64']).columns\n",
    "categorical_cols = X.select_dtypes(include=['object']).columns\n",
    "\n",
    "# Preprocessing for numerical data\n",
    "numerical_transformer = Pipeline(steps=[\n",
    "    ('imputer', SimpleImputer(strategy='median')),\n",
    "    ('scaler', StandardScaler())\n",
    "])\n",
    "\n",
    "# Preprocessing for categorical data\n",
    "categorical_transformer = Pipeline(steps=[\n",
    "    ('imputer', SimpleImputer(strategy='most_frequent')),\n",
    "    ('onehot', OneHotEncoder(handle_unknown='ignore'))\n",
    "])\n",
    "\n",
    "# Bundle preprocessing for numerical and categorical data\n",
    "preprocessor = ColumnTransformer(\n",
    "    transformers=[\n",
    "        ('num', numerical_transformer, numerical_cols),\n",
    "        ('cat', categorical_transformer, categorical_cols)\n",
    "    ])\n",
    "\n",
    "\n",
    "\n"
   ]
  },
  {
   "cell_type": "code",
   "execution_count": 28,
   "id": "8309c79a-6fd1-4e2c-af37-34883350388f",
   "metadata": {},
   "outputs": [],
   "source": [
    "# Define model\n",
    "model = RandomForestClassifier(random_state=0)\n",
    "\n",
    "# Bundle preprocessing and modeling code in a pipeline\n",
    "clf = Pipeline(steps=[\n",
    "    ('preprocessor', preprocessor),\n",
    "    ('classifier', model)\n",
    "])\n",
    "\n",
    "# Step 3: Split the data into training and testing sets\n",
    "X_train, X_test, y_train_xyz, y_test_xyz = train_test_split(X, y_xyz, test_size=0.2, random_state=0)\n",
    "_, _, y_train_seasonal, y_test_seasonal = train_test_split(X, y_seasonal, test_size=0.2, random_state=0)"
   ]
  },
  {
   "cell_type": "code",
   "execution_count": 29,
   "id": "812ca19e-165a-4eac-98bb-14e06f4405a3",
   "metadata": {},
   "outputs": [],
   "source": [
    "# Step 4: Training the model and evaluating it using GridSearchCV for hyperparameter tuning\n",
    "param_grid = {\n",
    "    'classifier__n_estimators': [100, 200],\n",
    "    'classifier__max_depth': [None, 10, 20],\n",
    "    'classifier__min_samples_split': [2, 5],\n",
    "    'classifier__min_samples_leaf': [1, 2]\n",
    "}\n",
    "\n",
    "grid_search_xyz = GridSearchCV(clf, param_grid, cv=3, scoring='roc_auc', n_jobs=-1)\n",
    "grid_search_xyz.fit(X_train, y_train_xyz)\n",
    "\n",
    "grid_search_seasonal = GridSearchCV(clf, param_grid, cv=3, scoring='roc_auc', n_jobs=-1)\n",
    "grid_search_seasonal.fit(X_train, y_train_seasonal)\n",
    "\n",
    "# Best model\n",
    "best_model_xyz = grid_search_xyz.best_estimator_\n",
    "best_model_seasonal = grid_search_seasonal.best_estimator_\n",
    "\n"
   ]
  },
  {
   "cell_type": "code",
   "execution_count": 31,
   "id": "2a96d66d-227e-42d4-9288-cd3d0ed37669",
   "metadata": {},
   "outputs": [
    {
     "name": "stdout",
     "output_type": "stream",
     "text": [
      "ROC AUC for xyz_vaccine: 0.8299536593160755\n",
      "ROC AUC for seasonal_vaccine: 0.8590536979071596\n",
      "Mean ROC AUC: 0.8445036786116176\n"
     ]
    }
   ],
   "source": [
    "# Step 5: Make predictions\n",
    "y_pred_prob_xyz = best_model_xyz.predict_proba(X_test)[:, 1]\n",
    "y_pred_prob_seasonal = best_model_seasonal.predict_proba(X_test)[:, 1]\n",
    "\n",
    "# Evaluate the model\n",
    "roc_auc_xyz = roc_auc_score(y_test_xyz, y_pred_prob_xyz)\n",
    "roc_auc_seasonal = roc_auc_score(y_test_seasonal, y_pred_prob_seasonal)\n",
    "mean_roc_auc = np.mean([roc_auc_xyz, roc_auc_seasonal])\n",
    "\n",
    "print(f'ROC AUC for xyz_vaccine: {roc_auc_xyz}')\n",
    "print(f'ROC AUC for seasonal_vaccine: {roc_auc_seasonal}')\n",
    "print(f'Mean ROC AUC: {mean_roc_auc}')\n",
    "\n"
   ]
  },
  {
   "cell_type": "code",
   "execution_count": 34,
   "id": "5445e879-b4c6-40f6-abf3-e8406aebb729",
   "metadata": {},
   "outputs": [],
   "source": [
    "# Prepare the submission\n",
    "submission_Divyansh = pd.DataFrame({\n",
    "    'respondent_id': features['respondent_id'],\n",
    "    'xyz_vaccine': best_model_xyz.predict_proba(X)[:, 1],\n",
    "    'seasonal_vaccine': best_model_seasonal.predict_proba(X)[:, 1]\n",
    "})\n",
    "\n",
    "# Save the submission\n",
    "submission_Divyansh.to_csv('submission_Divyansh.csv', index=False)"
   ]
  },
  {
   "cell_type": "code",
   "execution_count": null,
   "id": "90c12d66-7b6d-47e1-a820-4809feae438d",
   "metadata": {},
   "outputs": [],
   "source": []
  },
  {
   "cell_type": "code",
   "execution_count": null,
   "id": "c8b3d8fc-e8d2-4d0c-b36d-b84951c812ed",
   "metadata": {},
   "outputs": [],
   "source": []
  }
 ],
 "metadata": {
  "kernelspec": {
   "display_name": "Python 3 (ipykernel)",
   "language": "python",
   "name": "python3"
  },
  "language_info": {
   "codemirror_mode": {
    "name": "ipython",
    "version": 3
   },
   "file_extension": ".py",
   "mimetype": "text/x-python",
   "name": "python",
   "nbconvert_exporter": "python",
   "pygments_lexer": "ipython3",
   "version": "3.11.7"
  }
 },
 "nbformat": 4,
 "nbformat_minor": 5
}
